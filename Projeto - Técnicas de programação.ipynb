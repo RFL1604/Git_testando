{
 "cells": [
  {
   "cell_type": "code",
   "execution_count": 0,
   "metadata": {
    "application/vnd.databricks.v1+cell": {
     "cellMetadata": {
      "byteLimit": 2048000,
      "rowLimit": 10000
     },
     "inputWidgets": {},
     "nuid": "81e0a2a3-2f42-4585-91ff-19b18f01e322",
     "showTitle": false,
     "title": ""
    }
   },
   "outputs": [],
   "source": [
    "import numpy as np"
   ]
  },
  {
   "cell_type": "code",
   "execution_count": 0,
   "metadata": {
    "application/vnd.databricks.v1+cell": {
     "cellMetadata": {
      "byteLimit": 2048000,
      "rowLimit": 10000
     },
     "inputWidgets": {},
     "nuid": "cd0d6756-b5c8-431f-ac76-faa69b7a8c12",
     "showTitle": false,
     "title": ""
    }
   },
   "outputs": [
    {
     "output_type": "stream",
     "name": "stdout",
     "output_type": "stream",
     "text": [
      "[ 21  49  90  99 153 176 133 115  80  51  33]\nO numero 2 possui 21 jogadas!\nO numero 3 possui 49 jogadas!\nO numero 4 possui 90 jogadas!\nO numero 5 possui 99 jogadas!\nO numero 6 possui 153 jogadas!\nO numero 7 possui 176 jogadas!\nO numero 8 possui 133 jogadas!\nO numero 9 possui 115 jogadas!\nO numero 10 possui 80 jogadas!\nO numero 11 possui 51 jogadas!\nO numero 12 possui 33 jogadas!\n"
     ]
    }
   ],
   "source": [
    "# 1° Simulação de dados\n",
    "# jogo aleatorio de 2 dados com 1 jogada\n",
    "arr01 = np.random.randint(1,7)\n",
    "arr02 = np.random.randint(1,7)\n",
    "soma_jogadas = arr01+arr02\n",
    "\n",
    "# 2° Mútiplas Simulações\n",
    "# jogo aleatorio de 2 dados com 1000 jogadas\n",
    "arr1 = np.random.randint(1,7,1000)\n",
    "arr2 = np.random.randint(1,7,1000)\n",
    "# print(arr1)\n",
    "# print(arr2)\n",
    "\n",
    "# Soma e armazena cada jogada de dados\n",
    "soma_das_jogadas = arr1+arr2\n",
    "\n",
    "#calcula a média, o maximo e o min:\n",
    "media_arr1 = np.mean(arr1)\n",
    "media_arr2 = np.mean(arr2)\n",
    "media_da_soma = np.mean(soma_das_jogadas)\n",
    "maximo = np.max(soma_das_jogadas)\n",
    "minimo = np.min(soma_das_jogadas)\n",
    "\n",
    "# calcula o numero de vezes que cada possivel lançamento ocorreu:\n",
    "recorrencia_dos_numeros = np.bincount(soma_das_jogadas)[2:]\n",
    "print(recorrencia_dos_numeros)\n",
    "\n",
    "# Laço de repetição calcula a quantidade de possiveis jogadas:\n",
    "for item, jogadas in enumerate(recorrencia_dos_numeros,start=2): #(começa em 2 e segue até o fim)\n",
    "    print(f\"O numero {item} possui {jogadas} jogadas!\")\n"
   ]
  },
  {
   "cell_type": "markdown",
   "metadata": {
    "application/vnd.databricks.v1+cell": {
     "cellMetadata": {
      "byteLimit": 2048000,
      "rowLimit": 10000
     },
     "inputWidgets": {},
     "nuid": "05c1a0f3-f81c-4689-84ec-5b4275462684",
     "showTitle": false,
     "title": ""
    }
   },
   "source": [
    "##Analise de dados:\n",
    "Os conjuntos de dados possui uma probalidade diferente para cada resultado, exemplo (teoria): para a soma dos dados que resultam no numero 2 existe 1 combinação (1+1), já no resultado 7 existe 6 combinações (6+1 / 2+5 / 3+4 / 4+3 / 5+2 / 6+1), ou seja é esperado que a soma 7 seja maior, seguida pelas somas de 6 e 8, e assim seguindo até os menos provaveis que são os resultados 2 e 12. Quando executo o código da simulação (Pratica) ele retorna o resultado esperado da teoria assim podendo classificar como jogo justo. Significa que o jogo é justo podendo assim esperar resultados que se assemelha as probabilidades da teoria. (podendo sofrer alterações para poucas jogadas)."
   ]
  }
 ],
 "metadata": {
  "application/vnd.databricks.v1+notebook": {
   "dashboards": [],
   "language": "python",
   "notebookMetadata": {
    "pythonIndentUnit": 4
   },
   "notebookName": "Projeto - Técnicas de programação",
   "widgets": {}
  }
 },
 "nbformat": 4,
 "nbformat_minor": 0
}
